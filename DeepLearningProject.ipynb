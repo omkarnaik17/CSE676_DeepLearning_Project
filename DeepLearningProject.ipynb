{
  "cells": [
    {
      "cell_type": "code",
      "execution_count": null,
      "metadata": {
        "colab": {
          "base_uri": "https://localhost:8080/",
          "height": 35
        },
        "id": "vLExi4MqMGVK",
        "outputId": "a8ca55fe-806f-484d-9971-8e1a8eeb01b3"
      },
      "outputs": [
        {
          "data": {
            "application/vnd.google.colaboratory.intrinsic+json": {
              "type": "string"
            },
            "text/plain": [
              "'/content/drive/MyDrive/DL_datasets'"
            ]
          },
          "execution_count": 1,
          "metadata": {},
          "output_type": "execute_result"
        }
      ],
      "source": [
        "import os\n",
        "os.chdir('/datasets')\n",
        "os.getcwd()"
      ]
    },
    {
      "cell_type": "code",
      "execution_count": null,
      "metadata": {
        "id": "1s1C8maeeP6m"
      },
      "outputs": [],
      "source": [
        "#pandas\n",
        "import pandas as pd \n",
        "\n",
        "#matplotlib\n",
        "import matplotlib.pyplot as plt \n",
        "\n",
        "#seaborn\n",
        "import seaborn as sns\n",
        "\n",
        "#numpy\n",
        "import numpy as np\n",
        "\n",
        "#sklearn libraries\n",
        "from sklearn.metrics import confusion_matrix,classification_report\n",
        "from sklearn.linear_model import LogisticRegression\n",
        "from sklearn.ensemble import RandomForestClassifier\n",
        "from sklearn.svm import SVC\n",
        "from sklearn.preprocessing import StandardScaler\n",
        "from sklearn.model_selection import train_test_split"
      ]
    },
    {
      "cell_type": "code",
      "execution_count": null,
      "metadata": {
        "id": "NBekfTJn1WnU"
      },
      "outputs": [],
      "source": [
        "def load_dataset10_11(district_name):\n",
        "    # file_path = os.path.join('./drive','MyDrive','DL_datasets', f'2010-11_Production_Crop_{district_name}.csv')\n",
        "    file_path = f'./2010-11_Production_Crops_{district_name}.csv'\n",
        "    \n",
        "    print(file_path)\n",
        "    if os.path.exists(file_path):\n",
        "        return pd.read_csv(file_path)\n",
        "    else:\n",
        "        return \"\"#raise FileNotFoundError(f'Dataset for {district_name} not found.')\n",
        "\n",
        "def load_dataset11_12(district_name):\n",
        "    # file_path = os.path.join('./drive','MyDrive','DL_datasets', f'2010-11_Production_Crop_{district_name}.csv')\n",
        "    file_path = f'./2011-12_Production_Crops_{district_name}.csv'\n",
        "    \n",
        "    print(file_path)\n",
        "    if os.path.exists(file_path):\n",
        "        return pd.read_csv(file_path)\n",
        "    else:\n",
        "        return \"\"#raise FileNotFoundError(f'Dataset for {district_name} not found.')\n",
        "\n",
        "def load_dataset(file_name):\n",
        "    # file_path = os.path.join('./drive','MyDrive','DL_datasets', f'2010-11_Production_Crop_{district_name}.csv')\n",
        "    file_path = f'./{file_name}.csv'\n",
        "    \n",
        "    print(file_path)\n",
        "    if os.path.exists(file_path):\n",
        "        return pd.read_csv(file_path)\n",
        "    else:\n",
        "        raise FileNotFoundError(f'Dataset for {file_name} not found.')"
      ]
    },
    {
      "cell_type": "code",
      "execution_count": null,
      "metadata": {},
      "outputs": [],
      "source": [
        "maharashtra_districts = [\n",
        "    \"Ahmadnagar\",\n",
        "    \"Akola\",\n",
        "    \"Amravati\",\n",
        "    \"Aurangabad\",\n",
        "    \"Beed\",\n",
        "    \"Bhandara\",\n",
        "    \"Buldana\",\n",
        "    \"Chandrapur\",\n",
        "    \"Dhule\",\n",
        "    \"Gadchiroli\",\n",
        "    \"Gondiya\",\n",
        "    \"Hingoli\",\n",
        "    \"Jalgaon\",\n",
        "    \"Jalna\",\n",
        "    \"Kolhapur\",\n",
        "    \"Latur\",\n",
        "    \"Nagpur\",\n",
        "    \"Nanded\",\n",
        "    \"Nandurbar\",\n",
        "    \"Nashik\",\n",
        "    \"Osmanabad\",\n",
        "    \"Parbhani\",\n",
        "    \"Pune\",\n",
        "    \"Raigarh\",\n",
        "    \"Ratnagiri\",\n",
        "    \"Sangli\",\n",
        "    \"Satara\",\n",
        "    \"Sindhudurg\",\n",
        "    \"Solapur\"\n",
        "]\n",
        "maharashtra_districts11 = [\n",
        "    \"Ahmadnagar\",\n",
        "    \"Akola\",\n",
        "    \"Amravati\",\n",
        "    \"Aurangabad\",\n",
        "    \"Beed\",\n",
        "    \"Bhandara\",\n",
        "    \"Buldana\",\n",
        "    \"Chandrapur\",\n",
        "    \"Dhule\",\n",
        "    \"Gadchiroli\",\n",
        "    \"Gondiya\",\n",
        "    \"Hingoli\",\n",
        "    \"Jalgaon\",\n",
        "    \"Jalna\",\n",
        "    \"Kolhapur\",\n",
        "    \"Latur\",\n",
        "    \"Nagpur\",\n",
        "    \"Nanded\",\n",
        "    \"Nandurbar\",\n",
        "    \"Nashik\",\n",
        "    \"Osmanabad\",\n",
        "    \"Parbhani\",\n",
        "    \"Pune\",\n",
        "    \"Raigarh\",\n",
        "    \"Ratnagiri\",\n",
        "    \"Sangli\",\n",
        "    \"Satara\",\n",
        "    \"Sindhudurg\",\n",
        "    \"Solapur\",\n",
        "    \"Thane\",\n",
        "    \"Wardha\",\n",
        "    \"Washim\",\n",
        "    \"Yavatmal\"\n",
        "]"
      ]
    },
    {
      "cell_type": "code",
      "execution_count": null,
      "metadata": {},
      "outputs": [],
      "source": [
        "all_data = []\n",
        "\n",
        "for district in maharashtra_districts11:\n",
        "    data = load_dataset11_12(district)\n",
        "    all_data.append(data)\n",
        "for district in maharashtra_districts:\n",
        "    data = load_dataset10_11(district)\n",
        "    all_data.append(data)\n",
        "combined_data = pd.concat(all_data, ignore_index=True)"
      ]
    },
    {
      "cell_type": "code",
      "execution_count": null,
      "metadata": {},
      "outputs": [],
      "source": [
        "#uncleaned data\n",
        "# combined_data_cleaned.to_csv(\"./combined_data.csv\")\n",
        "combined_data_cleaned = combined_data#load_dataset_(\"combined_data\")\n",
        "#cleaning data\n",
        "combined_data_cleaned = combined_data_cleaned.fillna(0)\n",
        "#drop - DISTRICT_CODE , TALUKA_CODE, REFERENCE_YEAR\n",
        "combined_data_cleaned = combined_data_cleaned.replace(to_replace='\\.', value='0', regex=True)\n",
        "#cleaned data\n",
        "combined_data_cleaned"
      ]
    },
    {
      "cell_type": "code",
      "execution_count": null,
      "metadata": {},
      "outputs": [],
      "source": [
        "# del combined_data_cleaned[combined_data_cleaned. columns[-1]]\n",
        "# function to get the max of the crop from the taluka\n",
        "def getting_the_max_of_row(df):\n",
        "  # getting max\n",
        "  # create a list of crop columns\n",
        "  crop_cols = ['RICE', 'WHEAT', 'JOWAR', 'BAJRA', 'BARLEY', 'MAIZE', 'RAGI', 'OTHER_CEREALS',\n",
        "              'GRAM', 'TUR', 'UDID', 'MUNG', 'MASOOR', 'OTHER_PULSES', 'LINSEED_JAWAS', 'GROUNDNUTS',\n",
        "              'SUNFLOWER', 'SESAMUM', 'SOYABEAN', 'OTHER_OIL_SEEDS', 'SUGARCANE', 'COTTON', 'TAG',\n",
        "              'MESTA', 'TOBACCO', 'MEDICINAL', 'OTHER_SPICES']\n",
        "\n",
        "  # find the column with the maximum value for each row\n",
        "  df['target_crop'] = df[crop_cols].idxmax(axis=1)\n",
        "\n",
        "  # remove the numeric values from the column names\n",
        "  df['target_crop'] = df['target_crop'].str.replace(r'\\d+', '')\n",
        "\n",
        "  # remove the underscores from the column names\n",
        "  df['target_crop'] = df['target_crop'].str.replace('_', '')\n",
        "\n",
        "  # strip any whitespace from the column names\n",
        "  df['target_crop'] = df['target_crop'].str.strip()\n",
        "  # return target_crop\n",
        "\n",
        "# we will set the value of target_crop column to the max value found with above function\n",
        "# we will create a row here and then set the value in it then append it\n",
        "# combined_data_cleaned['target_crop'] = \n",
        "\n",
        "getting_the_max_of_row(combined_data_cleaned)\n",
        "\n",
        "combined_data_cleaned"
      ]
    },
    {
      "cell_type": "code",
      "execution_count": null,
      "metadata": {},
      "outputs": [],
      "source": [
        "combined_data_cleaned = combined_data_cleaned.drop(combined_data_cleaned.loc[:, \"RICE\":\"OTHER_OIL_SEEDS/_Missing\"].columns,axis = 1)\n",
        "combined_data_cleaned"
      ]
    },
    {
      "cell_type": "code",
      "execution_count": null,
      "metadata": {},
      "outputs": [],
      "source": [
        "combined_data_cleaned = combined_data_cleaned.drop(combined_data_cleaned.iloc[:, 0:3],axis = 1)\n",
        "combined_data_cleaned = combined_data_cleaned.drop(combined_data_cleaned.loc[:, [\"TALUKA_ID\"]].columns,axis = 1)\n",
        "combined_data_cleaned"
      ]
    },
    {
      "cell_type": "code",
      "execution_count": null,
      "metadata": {},
      "outputs": [],
      "source": [
        "combined_data_cleaned.to_csv(\"CleanedDataDoubleMerge_processed.csv\") #change name so you don't replace next dataset"
      ]
    },
    {
      "attachments": {},
      "cell_type": "markdown",
      "metadata": {},
      "source": [
        "The Code until above cell provides processed data, later we add soil_moisture data using the below formula: \n",
        "\n",
        "_((RAND() * ([max\\_limit ]- [min\\_limit ]+ 1))+ [min\\_limit]) / 10_\n",
        "\n",
        "continue below code separately."
      ]
    },
    {
      "cell_type": "code",
      "execution_count": null,
      "metadata": {
        "colab": {
          "base_uri": "https://localhost:8080/",
          "height": 224
        },
        "id": "dRBBLfv82a2Y",
        "outputId": "968b5745-47cb-49bd-d17d-fb7c37c2c7b8"
      },
      "outputs": [
        {
          "name": "stdout",
          "output_type": "stream",
          "text": [
            "./CleanedDataDoubleMerge_processed.csv\n"
          ]
        },
        {
          "data": {
            "text/html": [
              "\n",
              "  <div id=\"df-f19e5840-d7bf-43c5-96f9-0e2de31bf4c5\">\n",
              "    <div class=\"colab-df-container\">\n",
              "      <div>\n",
              "<style scoped>\n",
              "    .dataframe tbody tr th:only-of-type {\n",
              "        vertical-align: middle;\n",
              "    }\n",
              "\n",
              "    .dataframe tbody tr th {\n",
              "        vertical-align: top;\n",
              "    }\n",
              "\n",
              "    .dataframe thead th {\n",
              "        text-align: right;\n",
              "    }\n",
              "</style>\n",
              "<table border=\"1\" class=\"dataframe\">\n",
              "  <thead>\n",
              "    <tr style=\"text-align: right;\">\n",
              "      <th></th>\n",
              "      <th>TALUKA_NAME</th>\n",
              "      <th>target_crop</th>\n",
              "      <th>soil_moisture</th>\n",
              "    </tr>\n",
              "  </thead>\n",
              "  <tbody>\n",
              "    <tr>\n",
              "      <th>0</th>\n",
              "      <td>Paithan</td>\n",
              "      <td>BAJRA</td>\n",
              "      <td>0.425562</td>\n",
              "    </tr>\n",
              "    <tr>\n",
              "      <th>1</th>\n",
              "      <td>Dhule</td>\n",
              "      <td>BAJRA</td>\n",
              "      <td>0.372776</td>\n",
              "    </tr>\n",
              "    <tr>\n",
              "      <th>2</th>\n",
              "      <td>Erandol</td>\n",
              "      <td>BAJRA</td>\n",
              "      <td>0.476110</td>\n",
              "    </tr>\n",
              "    <tr>\n",
              "      <th>3</th>\n",
              "      <td>Amalner</td>\n",
              "      <td>BAJRA</td>\n",
              "      <td>0.520020</td>\n",
              "    </tr>\n",
              "    <tr>\n",
              "      <th>4</th>\n",
              "      <td>Parola</td>\n",
              "      <td>BAJRA</td>\n",
              "      <td>0.473404</td>\n",
              "    </tr>\n",
              "  </tbody>\n",
              "</table>\n",
              "</div>\n",
              "      <button class=\"colab-df-convert\" onclick=\"convertToInteractive('df-f19e5840-d7bf-43c5-96f9-0e2de31bf4c5')\"\n",
              "              title=\"Convert this dataframe to an interactive table.\"\n",
              "              style=\"display:none;\">\n",
              "        \n",
              "  <svg xmlns=\"http://www.w3.org/2000/svg\" height=\"24px\"viewBox=\"0 0 24 24\"\n",
              "       width=\"24px\">\n",
              "    <path d=\"M0 0h24v24H0V0z\" fill=\"none\"/>\n",
              "    <path d=\"M18.56 5.44l.94 2.06.94-2.06 2.06-.94-2.06-.94-.94-2.06-.94 2.06-2.06.94zm-11 1L8.5 8.5l.94-2.06 2.06-.94-2.06-.94L8.5 2.5l-.94 2.06-2.06.94zm10 10l.94 2.06.94-2.06 2.06-.94-2.06-.94-.94-2.06-.94 2.06-2.06.94z\"/><path d=\"M17.41 7.96l-1.37-1.37c-.4-.4-.92-.59-1.43-.59-.52 0-1.04.2-1.43.59L10.3 9.45l-7.72 7.72c-.78.78-.78 2.05 0 2.83L4 21.41c.39.39.9.59 1.41.59.51 0 1.02-.2 1.41-.59l7.78-7.78 2.81-2.81c.8-.78.8-2.07 0-2.86zM5.41 20L4 18.59l7.72-7.72 1.47 1.35L5.41 20z\"/>\n",
              "  </svg>\n",
              "      </button>\n",
              "      \n",
              "  <style>\n",
              "    .colab-df-container {\n",
              "      display:flex;\n",
              "      flex-wrap:wrap;\n",
              "      gap: 12px;\n",
              "    }\n",
              "\n",
              "    .colab-df-convert {\n",
              "      background-color: #E8F0FE;\n",
              "      border: none;\n",
              "      border-radius: 50%;\n",
              "      cursor: pointer;\n",
              "      display: none;\n",
              "      fill: #1967D2;\n",
              "      height: 32px;\n",
              "      padding: 0 0 0 0;\n",
              "      width: 32px;\n",
              "    }\n",
              "\n",
              "    .colab-df-convert:hover {\n",
              "      background-color: #E2EBFA;\n",
              "      box-shadow: 0px 1px 2px rgba(60, 64, 67, 0.3), 0px 1px 3px 1px rgba(60, 64, 67, 0.15);\n",
              "      fill: #174EA6;\n",
              "    }\n",
              "\n",
              "    [theme=dark] .colab-df-convert {\n",
              "      background-color: #3B4455;\n",
              "      fill: #D2E3FC;\n",
              "    }\n",
              "\n",
              "    [theme=dark] .colab-df-convert:hover {\n",
              "      background-color: #434B5C;\n",
              "      box-shadow: 0px 1px 3px 1px rgba(0, 0, 0, 0.15);\n",
              "      filter: drop-shadow(0px 1px 2px rgba(0, 0, 0, 0.3));\n",
              "      fill: #FFFFFF;\n",
              "    }\n",
              "  </style>\n",
              "\n",
              "      <script>\n",
              "        const buttonEl =\n",
              "          document.querySelector('#df-f19e5840-d7bf-43c5-96f9-0e2de31bf4c5 button.colab-df-convert');\n",
              "        buttonEl.style.display =\n",
              "          google.colab.kernel.accessAllowed ? 'block' : 'none';\n",
              "\n",
              "        async function convertToInteractive(key) {\n",
              "          const element = document.querySelector('#df-f19e5840-d7bf-43c5-96f9-0e2de31bf4c5');\n",
              "          const dataTable =\n",
              "            await google.colab.kernel.invokeFunction('convertToInteractive',\n",
              "                                                     [key], {});\n",
              "          if (!dataTable) return;\n",
              "\n",
              "          const docLinkHtml = 'Like what you see? Visit the ' +\n",
              "            '<a target=\"_blank\" href=https://colab.research.google.com/notebooks/data_table.ipynb>data table notebook</a>'\n",
              "            + ' to learn more about interactive tables.';\n",
              "          element.innerHTML = '';\n",
              "          dataTable['output_type'] = 'display_data';\n",
              "          await google.colab.output.renderOutput(dataTable, element);\n",
              "          const docLink = document.createElement('div');\n",
              "          docLink.innerHTML = docLinkHtml;\n",
              "          element.appendChild(docLink);\n",
              "        }\n",
              "      </script>\n",
              "    </div>\n",
              "  </div>\n",
              "  "
            ],
            "text/plain": [
              "  TALUKA_NAME target_crop  soil_moisture\n",
              "0     Paithan       BAJRA       0.425562\n",
              "1       Dhule       BAJRA       0.372776\n",
              "2     Erandol       BAJRA       0.476110\n",
              "3     Amalner       BAJRA       0.520020\n",
              "4      Parola       BAJRA       0.473404"
            ]
          },
          "execution_count": 4,
          "metadata": {},
          "output_type": "execute_result"
        }
      ],
      "source": [
        "data = load_dataset(\"CleanedDataDoubleMerge_processed\")\n",
        "data.head()"
      ]
    },
    {
      "cell_type": "code",
      "execution_count": null,
      "metadata": {
        "colab": {
          "base_uri": "https://localhost:8080/"
        },
        "id": "U0GZ-DGe3Vj1",
        "outputId": "126c3b28-ce46-491a-cc81-5c5e1b9f0808"
      },
      "outputs": [
        {
          "data": {
            "text/plain": [
              "TALUKA_NAME      0\n",
              "target_crop      0\n",
              "soil_moisture    0\n",
              "dtype: int64"
            ]
          },
          "execution_count": 5,
          "metadata": {},
          "output_type": "execute_result"
        }
      ],
      "source": [
        "data.isnull().sum()"
      ]
    },
    {
      "cell_type": "code",
      "execution_count": null,
      "metadata": {
        "colab": {
          "base_uri": "https://localhost:8080/",
          "height": 649
        },
        "id": "cDzqW4We-LPb",
        "outputId": "8ee256e4-236e-43e5-a493-444c4608b06f"
      },
      "outputs": [
        {
          "data": {
            "image/png": "[encoded data removed]",
            "text/plain": [
              "<Figure size 800x700 with 1 Axes>"
            ]
          },
          "metadata": {},
          "output_type": "display_data"
        }
      ],
      "source": [
        "plt.figure(figsize=(8,7))\n",
        "sns.histplot(x='soil_moisture',data=data,color='b');\n",
        "plt.title(\"Soil Moisture Levels\",{'fontsize':20});"
      ]
    },
    {
      "cell_type": "code",
      "execution_count": null,
      "metadata": {
        "id": "cmyxGLZDjG7X"
      },
      "outputs": [],
      "source": [
        "data['target_crop_label'] = pd.Categorical(data.target_crop).codes\n",
        "data['taluka_code'] = pd.Categorical(data.TALUKA_NAME).codes"
      ]
    },
    {
      "cell_type": "code",
      "execution_count": null,
      "metadata": {
        "colab": {
          "base_uri": "https://localhost:8080/",
          "height": 424
        },
        "id": "u-93ZNZU-GcJ",
        "outputId": "46334a41-f566-4034-fac8-26fa1a6bfb35"
      },
      "outputs": [
        {
          "data": {
            "text/html": [
              "\n",
              "  <div id=\"df-9d996dc9-d892-4744-9660-500aedfbc33d\">\n",
              "    <div class=\"colab-df-container\">\n",
              "      <div>\n",
              "<style scoped>\n",
              "    .dataframe tbody tr th:only-of-type {\n",
              "        vertical-align: middle;\n",
              "    }\n",
              "\n",
              "    .dataframe tbody tr th {\n",
              "        vertical-align: top;\n",
              "    }\n",
              "\n",
              "    .dataframe thead th {\n",
              "        text-align: right;\n",
              "    }\n",
              "</style>\n",
              "<table border=\"1\" class=\"dataframe\">\n",
              "  <thead>\n",
              "    <tr style=\"text-align: right;\">\n",
              "      <th></th>\n",
              "      <th>TALUKA_NAME</th>\n",
              "      <th>target_crop</th>\n",
              "      <th>soil_moisture</th>\n",
              "      <th>target_crop_label</th>\n",
              "      <th>taluka_code</th>\n",
              "    </tr>\n",
              "  </thead>\n",
              "  <tbody>\n",
              "    <tr>\n",
              "      <th>0</th>\n",
              "      <td>Paithan</td>\n",
              "      <td>BAJRA</td>\n",
              "      <td>0.425562</td>\n",
              "      <td>0</td>\n",
              "      <td>237</td>\n",
              "    </tr>\n",
              "    <tr>\n",
              "      <th>1</th>\n",
              "      <td>Dhule</td>\n",
              "      <td>BAJRA</td>\n",
              "      <td>0.372776</td>\n",
              "      <td>0</td>\n",
              "      <td>93</td>\n",
              "    </tr>\n",
              "    <tr>\n",
              "      <th>2</th>\n",
              "      <td>Erandol</td>\n",
              "      <td>BAJRA</td>\n",
              "      <td>0.476110</td>\n",
              "      <td>0</td>\n",
              "      <td>101</td>\n",
              "    </tr>\n",
              "    <tr>\n",
              "      <th>3</th>\n",
              "      <td>Amalner</td>\n",
              "      <td>BAJRA</td>\n",
              "      <td>0.520020</td>\n",
              "      <td>0</td>\n",
              "      <td>13</td>\n",
              "    </tr>\n",
              "    <tr>\n",
              "      <th>4</th>\n",
              "      <td>Parola</td>\n",
              "      <td>BAJRA</td>\n",
              "      <td>0.473404</td>\n",
              "      <td>0</td>\n",
              "      <td>248</td>\n",
              "    </tr>\n",
              "    <tr>\n",
              "      <th>...</th>\n",
              "      <td>...</td>\n",
              "      <td>...</td>\n",
              "      <td>...</td>\n",
              "      <td>...</td>\n",
              "      <td>...</td>\n",
              "    </tr>\n",
              "    <tr>\n",
              "      <th>7676</th>\n",
              "      <td>Ardhapur</td>\n",
              "      <td>WHEAT</td>\n",
              "      <td>0.549717</td>\n",
              "      <td>13</td>\n",
              "      <td>21</td>\n",
              "    </tr>\n",
              "    <tr>\n",
              "      <th>7677</th>\n",
              "      <td>Taloda</td>\n",
              "      <td>WHEAT</td>\n",
              "      <td>0.780498</td>\n",
              "      <td>13</td>\n",
              "      <td>328</td>\n",
              "    </tr>\n",
              "    <tr>\n",
              "      <th>7678</th>\n",
              "      <td>Shahada</td>\n",
              "      <td>WHEAT</td>\n",
              "      <td>0.551050</td>\n",
              "      <td>13</td>\n",
              "      <td>295</td>\n",
              "    </tr>\n",
              "    <tr>\n",
              "      <th>7679</th>\n",
              "      <td>Nandurbar</td>\n",
              "      <td>WHEAT</td>\n",
              "      <td>0.696382</td>\n",
              "      <td>13</td>\n",
              "      <td>227</td>\n",
              "    </tr>\n",
              "    <tr>\n",
              "      <th>7680</th>\n",
              "      <td>Nashik</td>\n",
              "      <td>WHEAT</td>\n",
              "      <td>0.583891</td>\n",
              "      <td>13</td>\n",
              "      <td>229</td>\n",
              "    </tr>\n",
              "  </tbody>\n",
              "</table>\n",
              "<p>7681 rows × 5 columns</p>\n",
              "</div>\n",
              "      <button class=\"colab-df-convert\" onclick=\"convertToInteractive('df-9d996dc9-d892-4744-9660-500aedfbc33d')\"\n",
              "              title=\"Convert this dataframe to an interactive table.\"\n",
              "              style=\"display:none;\">\n",
              "        \n",
              "  <svg xmlns=\"http://www.w3.org/2000/svg\" height=\"24px\"viewBox=\"0 0 24 24\"\n",
              "       width=\"24px\">\n",
              "    <path d=\"M0 0h24v24H0V0z\" fill=\"none\"/>\n",
              "    <path d=\"M18.56 5.44l.94 2.06.94-2.06 2.06-.94-2.06-.94-.94-2.06-.94 2.06-2.06.94zm-11 1L8.5 8.5l.94-2.06 2.06-.94-2.06-.94L8.5 2.5l-.94 2.06-2.06.94zm10 10l.94 2.06.94-2.06 2.06-.94-2.06-.94-.94-2.06-.94 2.06-2.06.94z\"/><path d=\"M17.41 7.96l-1.37-1.37c-.4-.4-.92-.59-1.43-.59-.52 0-1.04.2-1.43.59L10.3 9.45l-7.72 7.72c-.78.78-.78 2.05 0 2.83L4 21.41c.39.39.9.59 1.41.59.51 0 1.02-.2 1.41-.59l7.78-7.78 2.81-2.81c.8-.78.8-2.07 0-2.86zM5.41 20L4 18.59l7.72-7.72 1.47 1.35L5.41 20z\"/>\n",
              "  </svg>\n",
              "      </button>\n",
              "      \n",
              "  <style>\n",
              "    .colab-df-container {\n",
              "      display:flex;\n",
              "      flex-wrap:wrap;\n",
              "      gap: 12px;\n",
              "    }\n",
              "\n",
              "    .colab-df-convert {\n",
              "      background-color: #E8F0FE;\n",
              "      border: none;\n",
              "      border-radius: 50%;\n",
              "      cursor: pointer;\n",
              "      display: none;\n",
              "      fill: #1967D2;\n",
              "      height: 32px;\n",
              "      padding: 0 0 0 0;\n",
              "      width: 32px;\n",
              "    }\n",
              "\n",
              "    .colab-df-convert:hover {\n",
              "      background-color: #E2EBFA;\n",
              "      box-shadow: 0px 1px 2px rgba(60, 64, 67, 0.3), 0px 1px 3px 1px rgba(60, 64, 67, 0.15);\n",
              "      fill: #174EA6;\n",
              "    }\n",
              "\n",
              "    [theme=dark] .colab-df-convert {\n",
              "      background-color: #3B4455;\n",
              "      fill: #D2E3FC;\n",
              "    }\n",
              "\n",
              "    [theme=dark] .colab-df-convert:hover {\n",
              "      background-color: #434B5C;\n",
              "      box-shadow: 0px 1px 3px 1px rgba(0, 0, 0, 0.15);\n",
              "      filter: drop-shadow(0px 1px 2px rgba(0, 0, 0, 0.3));\n",
              "      fill: #FFFFFF;\n",
              "    }\n",
              "  </style>\n",
              "\n",
              "      <script>\n",
              "        const buttonEl =\n",
              "          document.querySelector('#df-9d996dc9-d892-4744-9660-500aedfbc33d button.colab-df-convert');\n",
              "        buttonEl.style.display =\n",
              "          google.colab.kernel.accessAllowed ? 'block' : 'none';\n",
              "\n",
              "        async function convertToInteractive(key) {\n",
              "          const element = document.querySelector('#df-9d996dc9-d892-4744-9660-500aedfbc33d');\n",
              "          const dataTable =\n",
              "            await google.colab.kernel.invokeFunction('convertToInteractive',\n",
              "                                                     [key], {});\n",
              "          if (!dataTable) return;\n",
              "\n",
              "          const docLinkHtml = 'Like what you see? Visit the ' +\n",
              "            '<a target=\"_blank\" href=https://colab.research.google.com/notebooks/data_table.ipynb>data table notebook</a>'\n",
              "            + ' to learn more about interactive tables.';\n",
              "          element.innerHTML = '';\n",
              "          dataTable['output_type'] = 'display_data';\n",
              "          await google.colab.output.renderOutput(dataTable, element);\n",
              "          const docLink = document.createElement('div');\n",
              "          docLink.innerHTML = docLinkHtml;\n",
              "          element.appendChild(docLink);\n",
              "        }\n",
              "      </script>\n",
              "    </div>\n",
              "  </div>\n",
              "  "
            ],
            "text/plain": [
              "     TALUKA_NAME target_crop  soil_moisture  target_crop_label  taluka_code\n",
              "0        Paithan       BAJRA       0.425562                  0          237\n",
              "1          Dhule       BAJRA       0.372776                  0           93\n",
              "2        Erandol       BAJRA       0.476110                  0          101\n",
              "3        Amalner       BAJRA       0.520020                  0           13\n",
              "4         Parola       BAJRA       0.473404                  0          248\n",
              "...          ...         ...            ...                ...          ...\n",
              "7676    Ardhapur       WHEAT       0.549717                 13           21\n",
              "7677      Taloda       WHEAT       0.780498                 13          328\n",
              "7678     Shahada       WHEAT       0.551050                 13          295\n",
              "7679   Nandurbar       WHEAT       0.696382                 13          227\n",
              "7680      Nashik       WHEAT       0.583891                 13          229\n",
              "\n",
              "[7681 rows x 5 columns]"
            ]
          },
          "execution_count": 8,
          "metadata": {},
          "output_type": "execute_result"
        }
      ],
      "source": [
        "data"
      ]
    },
    {
      "cell_type": "code",
      "execution_count": null,
      "metadata": {
        "id": "50cN40vOJlDf"
      },
      "outputs": [],
      "source": [
        "X = data.drop(['TALUKA_NAME','target_crop','target_crop_label'], axis =1)\n",
        "y = data.target_crop_label"
      ]
    },
    {
      "cell_type": "code",
      "execution_count": null,
      "metadata": {
        "id": "WQrW1NWBK5vI"
      },
      "outputs": [],
      "source": [
        "X_train,X_test,y_train,y_test = train_test_split(X,y, test_size=0.3,shuffle=True)"
      ]
    },
    {
      "cell_type": "code",
      "execution_count": null,
      "metadata": {
        "colab": {
          "base_uri": "https://localhost:8080/"
        },
        "id": "2UcZG0NvLDl_",
        "outputId": "42e25a59-794b-4d6e-a859-42a19c7e6b5c"
      },
      "outputs": [
        {
          "name": "stdout",
          "output_type": "stream",
          "text": [
            "(5376, 2) (2305, 2) (5376,) (2305,)\n"
          ]
        }
      ],
      "source": [
        "print( X_train.shape,X_test.shape,y_train.shape,y_test.shape)"
      ]
    },
    {
      "cell_type": "code",
      "execution_count": null,
      "metadata": {
        "id": "6-o6h0vs8lI0"
      },
      "outputs": [],
      "source": [
        "scalar = StandardScaler()\n",
        "X_train = scalar.fit_transform(X_train)\n",
        "X_test = scalar. transform(X_test)"
      ]
    },
    {
      "cell_type": "code",
      "execution_count": null,
      "metadata": {
        "colab": {
          "base_uri": "https://localhost:8080/"
        },
        "id": "5dOfWJKwMWJw",
        "outputId": "3233af68-8465-40bc-a790-c2754ae70273"
      },
      "outputs": [
        {
          "name": "stdout",
          "output_type": "stream",
          "text": [
            "(5376, 2) (2305, 2) (5376,) (2305,)\n"
          ]
        }
      ],
      "source": [
        "print( X_train.shape,X_test.shape,y_train.shape,y_test.shape)"
      ]
    },
    {
      "cell_type": "code",
      "execution_count": null,
      "metadata": {
        "colab": {
          "base_uri": "https://localhost:8080/"
        },
        "id": "v2hnEV5BMoIG",
        "outputId": "aed8faf0-f1a4-455e-dbf6-f20a1d14ae6d"
      },
      "outputs": [
        {
          "name": "stdout",
          "output_type": "stream",
          "text": [
            "Accuracy Score for Logistic Regression is :  94.2299349240781 %\n",
            "Accuracy Score for Random Forest is :  95.22776572668113 %\n",
            "Accuracy Score for Support Vector Machine is :  94.2299349240781 %\n"
          ]
        }
      ],
      "source": [
        "#modal building\n",
        "models = {\n",
        "    LogisticRegression(max_iter=1000):'Logistic Regression',\n",
        "    RandomForestClassifier():'Random Forest',\n",
        "    SVC():'Support Vector Machine'\n",
        "}\n",
        "for m in models.keys():\n",
        "    m.fit(X_train,y_train)\n",
        "for model,name in models.items():\n",
        "     print(f\"Accuracy Score for {name} is : \",model.score(X_test,y_test)*100,\"%\")"
      ]
    },
    {
      "cell_type": "code",
      "execution_count": null,
      "metadata": {
        "colab": {
          "base_uri": "https://localhost:8080/",
          "height": 75
        },
        "id": "IkTSoSuLjcqQ",
        "outputId": "5ef87725-6fc3-4a9a-cf53-9bf6b6a4a061"
      },
      "outputs": [
        {
          "data": {
            "text/html": [
              "<style>#sk-container-id-1 {color: black;background-color: white;}#sk-container-id-1 pre{padding: 0;}#sk-container-id-1 div.sk-toggleable {background-color: white;}#sk-container-id-1 label.sk-toggleable__label {cursor: pointer;display: block;width: 100%;margin-bottom: 0;padding: 0.3em;box-sizing: border-box;text-align: center;}#sk-container-id-1 label.sk-toggleable__label-arrow:before {content: \"▸\";float: left;margin-right: 0.25em;color: #696969;}#sk-container-id-1 label.sk-toggleable__label-arrow:hover:before {color: black;}#sk-container-id-1 div.sk-estimator:hover label.sk-toggleable__label-arrow:before {color: black;}#sk-container-id-1 div.sk-toggleable__content {max-height: 0;max-width: 0;overflow: hidden;text-align: left;background-color: #f0f8ff;}#sk-container-id-1 div.sk-toggleable__content pre {margin: 0.2em;color: black;border-radius: 0.25em;background-color: #f0f8ff;}#sk-container-id-1 input.sk-toggleable__control:checked~div.sk-toggleable__content {max-height: 200px;max-width: 100%;overflow: auto;}#sk-container-id-1 input.sk-toggleable__control:checked~label.sk-toggleable__label-arrow:before {content: \"▾\";}#sk-container-id-1 div.sk-estimator input.sk-toggleable__control:checked~label.sk-toggleable__label {background-color: #d4ebff;}#sk-container-id-1 div.sk-label input.sk-toggleable__control:checked~label.sk-toggleable__label {background-color: #d4ebff;}#sk-container-id-1 input.sk-hidden--visually {border: 0;clip: rect(1px 1px 1px 1px);clip: rect(1px, 1px, 1px, 1px);height: 1px;margin: -1px;overflow: hidden;padding: 0;position: absolute;width: 1px;}#sk-container-id-1 div.sk-estimator {font-family: monospace;background-color: #f0f8ff;border: 1px dotted black;border-radius: 0.25em;box-sizing: border-box;margin-bottom: 0.5em;}#sk-container-id-1 div.sk-estimator:hover {background-color: #d4ebff;}#sk-container-id-1 div.sk-parallel-item::after {content: \"\";width: 100%;border-bottom: 1px solid gray;flex-grow: 1;}#sk-container-id-1 div.sk-label:hover label.sk-toggleable__label {background-color: #d4ebff;}#sk-container-id-1 div.sk-serial::before {content: \"\";position: absolute;border-left: 1px solid gray;box-sizing: border-box;top: 0;bottom: 0;left: 50%;z-index: 0;}#sk-container-id-1 div.sk-serial {display: flex;flex-direction: column;align-items: center;background-color: white;padding-right: 0.2em;padding-left: 0.2em;position: relative;}#sk-container-id-1 div.sk-item {position: relative;z-index: 1;}#sk-container-id-1 div.sk-parallel {display: flex;align-items: stretch;justify-content: center;background-color: white;position: relative;}#sk-container-id-1 div.sk-item::before, #sk-container-id-1 div.sk-parallel-item::before {content: \"\";position: absolute;border-left: 1px solid gray;box-sizing: border-box;top: 0;bottom: 0;left: 50%;z-index: -1;}#sk-container-id-1 div.sk-parallel-item {display: flex;flex-direction: column;z-index: 1;position: relative;background-color: white;}#sk-container-id-1 div.sk-parallel-item:first-child::after {align-self: flex-end;width: 50%;}#sk-container-id-1 div.sk-parallel-item:last-child::after {align-self: flex-start;width: 50%;}#sk-container-id-1 div.sk-parallel-item:only-child::after {width: 0;}#sk-container-id-1 div.sk-dashed-wrapped {border: 1px dashed gray;margin: 0 0.4em 0.5em 0.4em;box-sizing: border-box;padding-bottom: 0.4em;background-color: white;}#sk-container-id-1 div.sk-label label {font-family: monospace;font-weight: bold;display: inline-block;line-height: 1.2em;}#sk-container-id-1 div.sk-label-container {text-align: center;}#sk-container-id-1 div.sk-container {/* jupyter's `normalize.less` sets `[hidden] { display: none; }` but bootstrap.min.css set `[hidden] { display: none !important; }` so we also need the `!important` here to be able to override the default hidden behavior on the sphinx rendered scikit-learn.org. See: https://github.com/scikit-learn/scikit-learn/issues/21755 */display: inline-block !important;position: relative;}#sk-container-id-1 div.sk-text-repr-fallback {display: none;}</style><div id=\"sk-container-id-1\" class=\"sk-top-container\"><div class=\"sk-text-repr-fallback\"><pre>RandomForestClassifier()</pre><b>In a Jupyter environment, please rerun this cell to show the HTML representation or trust the notebook. <br />On GitHub, the HTML representation is unable to render, please try loading this page with nbviewer.org.</b></div><div class=\"sk-container\" hidden><div class=\"sk-item\"><div class=\"sk-estimator sk-toggleable\"><input class=\"sk-toggleable__control sk-hidden--visually\" id=\"sk-estimator-id-1\" type=\"checkbox\" checked><label for=\"sk-estimator-id-1\" class=\"sk-toggleable__label sk-toggleable__label-arrow\">RandomForestClassifier</label><div class=\"sk-toggleable__content\"><pre>RandomForestClassifier()</pre></div></div></div></div></div>"
            ],
            "text/plain": [
              "RandomForestClassifier()"
            ]
          },
          "execution_count": 16,
          "metadata": {},
          "output_type": "execute_result"
        }
      ],
      "source": [
        "#Continuing with - Random Forest as it provides higher Accuracy\n",
        "rf = RandomForestClassifier()\n",
        "rf.fit(X_train, y_train)"
      ]
    },
    {
      "cell_type": "code",
      "execution_count": null,
      "metadata": {
        "id": "Tu0T3Ggbjf7y"
      },
      "outputs": [],
      "source": [
        "y_pred = rf.predict(X_test)"
      ]
    },
    {
      "cell_type": "code",
      "execution_count": null,
      "metadata": {
        "colab": {
          "base_uri": "https://localhost:8080/"
        },
        "id": "DTSWx2Gtj5Gp",
        "outputId": "68598880-0691-4caf-cc6a-eb2995497014"
      },
      "outputs": [
        {
          "name": "stdout",
          "output_type": "stream",
          "text": [
            "              precision    recall  f1-score   support\n",
            "\n",
            "           0       0.22      0.40      0.29         5\n",
            "           1       0.00      0.00      0.00         8\n",
            "           2       0.00      0.00      0.00         1\n",
            "           4       0.00      0.00      0.00         3\n",
            "           5       1.00      0.17      0.29         6\n",
            "           7       0.00      0.00      0.00         5\n",
            "           8       0.00      0.00      0.00         2\n",
            "           9       0.68      0.40      0.50        70\n",
            "          10       0.37      0.38      0.37        29\n",
            "          11       0.97      0.99      0.98      2162\n",
            "          12       0.50      0.25      0.33         4\n",
            "          13       0.64      0.70      0.67        10\n",
            "\n",
            "    accuracy                           0.95      2305\n",
            "   macro avg       0.37      0.27      0.29      2305\n",
            "weighted avg       0.95      0.95      0.95      2305\n",
            "\n"
          ]
        },
        {
          "name": "stderr",
          "output_type": "stream",
          "text": [
            "/usr/local/lib/python3.10/dist-packages/sklearn/metrics/_classification.py:1344: UndefinedMetricWarning: Precision and F-score are ill-defined and being set to 0.0 in labels with no predicted samples. Use `zero_division` parameter to control this behavior.\n",
            "  _warn_prf(average, modifier, msg_start, len(result))\n",
            "/usr/local/lib/python3.10/dist-packages/sklearn/metrics/_classification.py:1344: UndefinedMetricWarning: Precision and F-score are ill-defined and being set to 0.0 in labels with no predicted samples. Use `zero_division` parameter to control this behavior.\n",
            "  _warn_prf(average, modifier, msg_start, len(result))\n",
            "/usr/local/lib/python3.10/dist-packages/sklearn/metrics/_classification.py:1344: UndefinedMetricWarning: Precision and F-score are ill-defined and being set to 0.0 in labels with no predicted samples. Use `zero_division` parameter to control this behavior.\n",
            "  _warn_prf(average, modifier, msg_start, len(result))\n"
          ]
        }
      ],
      "source": [
        "print(classification_report(y_test,y_pred))"
      ]
    },
    {
      "cell_type": "code",
      "execution_count": null,
      "metadata": {
        "colab": {
          "base_uri": "https://localhost:8080/",
          "height": 533
        },
        "id": "S5bN1E4jj9tx",
        "outputId": "04a61ed2-139f-42a4-822b-c5971dc0c7ab"
      },
      "outputs": [
        {
          "data": {
            "image/png": "[encoded data removed]",
            "text/plain": [
              "<Figure size 640x480 with 2 Axes>"
            ]
          },
          "metadata": {},
          "output_type": "display_data"
        }
      ],
      "source": [
        "class_names = np.arange(0,21)\n",
        "fig,ax = plt.subplots()\n",
        "tick_marks = np.arange(len(class_names))\n",
        "plt.xticks(tick_marks,class_names)\n",
        "plt.yticks(tick_marks,class_names)\n",
        "cnf_matrix = confusion_matrix(y_test,y_pred)\n",
        "sns.heatmap(pd.DataFrame(cnf_matrix), annot = True,fmt = 'd')\n",
        "ax.xaxis.set_label_position('top')\n",
        "plt.tight_layout()\n",
        "plt.title(f'Confusion Matrix for Random Forest', {'fontsize':20})\n",
        "plt.ylabel('Actual label')\n",
        "plt.xlabel('Predicted label')\n",
        "plt.show()"
      ]
    },
    {
      "cell_type": "code",
      "execution_count": null,
      "metadata": {
        "colab": {
          "base_uri": "https://localhost:8080/"
        },
        "id": "rCbejE6E2b09",
        "outputId": "261f96f2-4c36-43cb-e5d4-d525be9cd56b"
      },
      "outputs": [
        {
          "data": {
            "text/plain": [
              "array([[-0.27286565, -0.798882  ],\n",
              "       [-0.54798145,  0.89863799],\n",
              "       [ 1.59425119,  0.79187572],\n",
              "       ...,\n",
              "       [-1.40321935,  0.89863799],\n",
              "       [-0.62966059,  1.11216251],\n",
              "       [-0.80678181,  0.79187572]])"
            ]
          },
          "execution_count": 20,
          "metadata": {},
          "output_type": "execute_result"
        }
      ],
      "source": []
    }
  ],
  "metadata": {
    "colab": {
      "provenance": []
    },
    "kernelspec": {
      "display_name": "Python 3",
      "name": "python3"
    },
    "language_info": {
      "name": "python"
    }
  },
  "nbformat": 4,
  "nbformat_minor": 0
}
